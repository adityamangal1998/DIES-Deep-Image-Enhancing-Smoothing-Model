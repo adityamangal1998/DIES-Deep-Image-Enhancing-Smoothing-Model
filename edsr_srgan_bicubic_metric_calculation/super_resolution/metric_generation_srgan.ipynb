{
 "cells": [
  {
   "cell_type": "code",
   "execution_count": 1,
   "id": "1ceca98c",
   "metadata": {},
   "outputs": [],
   "source": [
    "import os\n",
    "import numpy as np\n",
    "import pandas as pd\n",
    "import matplotlib.pyplot as plt\n",
    "import cv2\n",
    "import tensorflow as tf\n",
    "from sklearn.model_selection import train_test_split\n",
    "from tensorflow.keras.layers import (Input, Conv2D, MaxPooling2D, Dropout,\n",
    "                                     UpSampling2D, BatchNormalization)\n",
    "from tensorflow.keras.models import Model\n",
    "from tensorflow.keras.callbacks import EarlyStopping, LearningRateScheduler\n",
    "from skimage import img_as_ubyte\n",
    "from datetime import datetime\n",
    "from tensorflow.keras.callbacks import Callback"
   ]
  },
  {
   "cell_type": "code",
   "execution_count": null,
   "id": "fab6822c",
   "metadata": {},
   "outputs": [],
   "source": [
    "X_train_path = \"C:\\work\\study\\image_enhancement_paper\\X_train.npy\"\n",
    "Y_train_path = \"C:\\work\\study\\image_enhancement_paper\\Y_train.npy\"\n",
    "\n",
    "# Define batch size\n",
    "batch_size = 8\n",
    "# Data Generator Function\n",
    "def data_generator(X_path, Y_path):\n",
    "    X_data = np.load(X_path, mmap_mode='r')[:5000]  # Memory-map the dataset\n",
    "    Y_data = np.load(Y_path, mmap_mode='r')[:5000]\n",
    "\n",
    "    def gen():\n",
    "        for i in range(len(X_data)):\n",
    "            x_sample = np.clip(X_data[i].astype(np.float32) / 255.0, 0.0, 1.0)  # Normalize & Clip\n",
    "            y_sample = np.clip(Y_data[i].astype(np.float32) / 255.0, 0.0, 1.0)\n",
    "            yield x_sample, y_sample  \n",
    "\n",
    "    return tf.data.Dataset.from_generator(\n",
    "        gen,\n",
    "        output_signature=(\n",
    "            tf.TensorSpec(shape=(None, None, 3), dtype=tf.float32),\n",
    "            tf.TensorSpec(shape=(None, None, 3), dtype=tf.float32)\n",
    "        )\n",
    "    )\n",
    "\n",
    "batch_size = 8\n",
    "# train_ds = data_generator(\"X_train.npy\", \"Y_train.npy\").batch(batch_size).prefetch(tf.data.AUTOTUNE)\n",
    "val_ds = data_generator(X_train_path, Y_train_path).batch(batch_size).prefetch(tf.data.AUTOTUNE)\n",
    "# Convert the Dataset objects to numpy arrays\n",
    "val_x = []\n",
    "val_y = []\n",
    "# Iterate over the validation dataset and collect the data\n",
    "for x_batch, y_batch in val_ds:\n",
    "    val_x.append(x_batch.numpy())\n",
    "    val_y.append(y_batch.numpy())\n",
    "\n",
    "# Convert the lists to numpy arrays\n",
    "val_x = np.concatenate(val_x, axis=0)\n",
    "val_y = np.concatenate(val_y, axis=0)\n"
   ]
  },
  {
   "cell_type": "code",
   "execution_count": 4,
   "id": "ebd0ba57",
   "metadata": {},
   "outputs": [],
   "source": [
    "def calculate_metrics(img1, img2):\n",
    "    img1, img2 = img1.astype(np.float64), img2.astype(np.float64)\n",
    "    mse = np.mean((img1 - img2)**2)\n",
    "    mae = np.mean(np.abs(img1 - img2))\n",
    "    psnr = 20 * np.log10(255.0 / np.sqrt(mse)) if mse != 0 else float('inf')\n",
    "    ssim = np.mean((2 * img1 * img2 + 0.01 * 255) / (img1**2 + img2**2 + 0.01 * 255))\n",
    "    return psnr, ssim"
   ]
  },
  {
   "cell_type": "code",
   "execution_count": null,
   "id": "5ec8ad96",
   "metadata": {},
   "outputs": [],
   "source": [
    "from model.srgan import generator\n",
    "from model import resolve_single\n",
    "model = generator()v\n",
    "model.load_weights('artifacts/srgan/gan_generator.h5')"
   ]
  },
  {
   "cell_type": "code",
   "execution_count": null,
   "id": "47f378c3",
   "metadata": {},
   "outputs": [],
   "source": [
    "metrics = {\"val_psnr\": [],\"val_ssim\": []}\n",
    "metric_prefix = 'val'\n",
    "for i in range(len(val_x)):\n",
    "    output = resolve_single(model, val_x[i])\n",
    "    output = cv2.resize(output.numpy(), (val_x[i].shape[1], val_x[i].shape[0]), interpolation=cv2.INTER_CUBIC)\n",
    "    # output = model.predict(val_x[i].reshape(1, *val_x[i].shape), verbose=0)[0]\n",
    "    output = img_as_ubyte(np.clip(output, 0, 1))\n",
    "    img_y = img_as_ubyte(val_y[i])\n",
    "    psnr, ssim = calculate_metrics(img_y, output)\n",
    "    metrics[f\"{metric_prefix}_psnr\"].append(psnr)\n",
    "    metrics[f\"{metric_prefix}_ssim\"].append(ssim)"
   ]
  },
  {
   "cell_type": "code",
   "execution_count": 12,
   "id": "780e0dd9",
   "metadata": {},
   "outputs": [],
   "source": [
    "metrics_avg = {k: np.mean(v) for k, v in metrics.items()}  # Average the metrics\n",
    "df_metrics = pd.DataFrame([metrics_avg])  # Create a DataFrame with a single row (average metrics)"
   ]
  },
  {
   "cell_type": "code",
   "execution_count": 13,
   "id": "740efe2c",
   "metadata": {},
   "outputs": [
    {
     "data": {
      "text/html": [
       "<div>\n",
       "<style scoped>\n",
       "    .dataframe tbody tr th:only-of-type {\n",
       "        vertical-align: middle;\n",
       "    }\n",
       "\n",
       "    .dataframe tbody tr th {\n",
       "        vertical-align: top;\n",
       "    }\n",
       "\n",
       "    .dataframe thead th {\n",
       "        text-align: right;\n",
       "    }\n",
       "</style>\n",
       "<table border=\"1\" class=\"dataframe\">\n",
       "  <thead>\n",
       "    <tr style=\"text-align: right;\">\n",
       "      <th></th>\n",
       "      <th>val_psnr</th>\n",
       "      <th>val_ssim</th>\n",
       "    </tr>\n",
       "  </thead>\n",
       "  <tbody>\n",
       "    <tr>\n",
       "      <th>0</th>\n",
       "      <td>20.524074</td>\n",
       "      <td>0.928911</td>\n",
       "    </tr>\n",
       "  </tbody>\n",
       "</table>\n",
       "</div>"
      ],
      "text/plain": [
       "    val_psnr  val_ssim\n",
       "0  20.524074  0.928911"
      ]
     },
     "execution_count": 13,
     "metadata": {},
     "output_type": "execute_result"
    }
   ],
   "source": [
    "df_metrics"
   ]
  },
  {
   "cell_type": "code",
   "execution_count": null,
   "id": "eb7555cd",
   "metadata": {},
   "outputs": [],
   "source": [
    "\n"
   ]
  }
 ],
 "metadata": {
  "kernelspec": {
   "display_name": "myenv",
   "language": "python",
   "name": "python3"
  },
  "language_info": {
   "codemirror_mode": {
    "name": "ipython",
    "version": 3
   },
   "file_extension": ".py",
   "mimetype": "text/x-python",
   "name": "python",
   "nbconvert_exporter": "python",
   "pygments_lexer": "ipython3",
   "version": "3.10.16"
  }
 },
 "nbformat": 4,
 "nbformat_minor": 5
}
